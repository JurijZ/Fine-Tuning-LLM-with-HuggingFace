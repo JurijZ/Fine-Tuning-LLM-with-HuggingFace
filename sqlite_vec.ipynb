{
  "nbformat": 4,
  "nbformat_minor": 0,
  "metadata": {
    "colab": {
      "provenance": []
    },
    "kernelspec": {
      "name": "python3",
      "display_name": "Python 3"
    },
    "language_info": {
      "name": "python"
    }
  },
  "cells": [
    {
      "cell_type": "code",
      "source": [
        "!pip install sqlite-vec"
      ],
      "metadata": {
        "colab": {
          "base_uri": "https://localhost:8080/"
        },
        "id": "Ol9aC9sklJjp",
        "outputId": "52b862aa-aa9e-4203-cfcb-11841c866bbb"
      },
      "execution_count": 2,
      "outputs": [
        {
          "output_type": "stream",
          "name": "stdout",
          "text": [
            "Collecting sqlite-vec\n",
            "  Downloading sqlite_vec-0.1.6-py3-none-manylinux_2_17_x86_64.manylinux2014_x86_64.manylinux1_x86_64.whl.metadata (198 bytes)\n",
            "Downloading sqlite_vec-0.1.6-py3-none-manylinux_2_17_x86_64.manylinux2014_x86_64.manylinux1_x86_64.whl (151 kB)\n",
            "\u001b[?25l   \u001b[90m━━━━━━━━━━━━━━━━━━━━━━━━━━━━━━━━━━━━━━━━\u001b[0m \u001b[32m0.0/151.6 kB\u001b[0m \u001b[31m?\u001b[0m eta \u001b[36m-:--:--\u001b[0m\r\u001b[2K   \u001b[91m━━━━━━━━━━━━━━━━━━━━━━━━\u001b[0m\u001b[90m╺\u001b[0m\u001b[90m━━━━━━━━━━━━━━━\u001b[0m \u001b[32m92.2/151.6 kB\u001b[0m \u001b[31m2.5 MB/s\u001b[0m eta \u001b[36m0:00:01\u001b[0m\r\u001b[2K   \u001b[90m━━━━━━━━━━━━━━━━━━━━━━━━━━━━━━━━━━━━━━━━\u001b[0m \u001b[32m151.6/151.6 kB\u001b[0m \u001b[31m2.9 MB/s\u001b[0m eta \u001b[36m0:00:00\u001b[0m\n",
            "\u001b[?25hInstalling collected packages: sqlite-vec\n",
            "Successfully installed sqlite-vec-0.1.6\n"
          ]
        }
      ]
    },
    {
      "cell_type": "code",
      "source": [
        "import sqlite3\n",
        "import sqlite_vec\n",
        "\n",
        "from typing import List\n",
        "import struct"
      ],
      "metadata": {
        "id": "tFLaXdwZlRlG"
      },
      "execution_count": 3,
      "outputs": []
    },
    {
      "cell_type": "code",
      "source": [
        "db = sqlite3.connect(\":memory:\")\n",
        "db.enable_load_extension(True)\n",
        "sqlite_vec.load(db)\n",
        "db.enable_load_extension(False)\n",
        "\n",
        "sqlite_version, vec_version = db.execute(\n",
        "    \"select sqlite_version(), vec_version()\"\n",
        ").fetchone()\n",
        "print(f\"sqlite_version={sqlite_version}, vec_version={vec_version}\")"
      ],
      "metadata": {
        "colab": {
          "base_uri": "https://localhost:8080/"
        },
        "id": "daQPUNp0lwa2",
        "outputId": "1e11ef23-3f6d-4239-a582-fa603ed25750"
      },
      "execution_count": 5,
      "outputs": [
        {
          "output_type": "stream",
          "name": "stdout",
          "text": [
            "sqlite_version=3.37.2, vec_version=v0.1.6\n"
          ]
        }
      ]
    },
    {
      "cell_type": "code",
      "source": [
        "# Create a table called vec_items\n",
        "db.execute(\"CREATE VIRTUAL TABLE vec_items USING vec0(embedding float[4])\")"
      ],
      "metadata": {
        "colab": {
          "base_uri": "https://localhost:8080/"
        },
        "id": "62Iw-Z-0mSOd",
        "outputId": "089ec263-aaf8-4f18-f4d1-851942ab420d"
      },
      "execution_count": 7,
      "outputs": [
        {
          "output_type": "execute_result",
          "data": {
            "text/plain": [
              "<sqlite3.Cursor at 0x7c3f43dea4c0>"
            ]
          },
          "metadata": {},
          "execution_count": 7
        }
      ]
    },
    {
      "cell_type": "code",
      "source": [
        "def serialize_f32(vector: List[float]) -> bytes:\n",
        "    \"\"\"serializes a list of floats into a compact \"raw bytes\" format\"\"\"\n",
        "    return struct.pack(\"%sf\" % len(vector), *vector)"
      ],
      "metadata": {
        "id": "GYCnE_b7lRnr"
      },
      "execution_count": 4,
      "outputs": []
    },
    {
      "cell_type": "code",
      "source": [
        "\n",
        "items = [\n",
        "    (1, [0.1, 0.1, 0.1, 0.1]),\n",
        "    (2, [0.2, 0.2, 0.2, 0.2]),\n",
        "    (3, [0.3, 0.3, 0.3, 0.3]),\n",
        "    (4, [0.4, 0.4, 0.4, 0.4]),\n",
        "    (5, [0.5, 0.5, 0.5, 0.5]),\n",
        "]"
      ],
      "metadata": {
        "id": "x_6MRl0Flwd_"
      },
      "execution_count": 8,
      "outputs": []
    },
    {
      "cell_type": "code",
      "source": [
        "# Insert vectors into the table\n",
        "with db:\n",
        "    for item in items:\n",
        "        db.execute(\n",
        "            \"INSERT INTO vec_items(rowid, embedding) VALUES (?, ?)\",\n",
        "            [item[0], serialize_f32(item[1])],\n",
        "        )"
      ],
      "metadata": {
        "id": "F6h7GTWkmk2-"
      },
      "execution_count": 9,
      "outputs": []
    },
    {
      "cell_type": "code",
      "source": [
        "db.execute(\n",
        "    \"\"\"\n",
        "      SELECT *\n",
        "      FROM vec_items\n",
        "    \"\"\").fetchall()"
      ],
      "metadata": {
        "colab": {
          "base_uri": "https://localhost:8080/"
        },
        "id": "-zEuzpyDnnnu",
        "outputId": "179ac30d-2e40-407c-d3d5-2c7b208ffc5b"
      },
      "execution_count": 14,
      "outputs": [
        {
          "output_type": "execute_result",
          "data": {
            "text/plain": [
              "[(1, b'\\xcd\\xcc\\xcc=\\xcd\\xcc\\xcc=\\xcd\\xcc\\xcc=\\xcd\\xcc\\xcc='),\n",
              " (2, b'\\xcd\\xccL>\\xcd\\xccL>\\xcd\\xccL>\\xcd\\xccL>'),\n",
              " (3, b'\\x9a\\x99\\x99>\\x9a\\x99\\x99>\\x9a\\x99\\x99>\\x9a\\x99\\x99>'),\n",
              " (4, b'\\xcd\\xcc\\xcc>\\xcd\\xcc\\xcc>\\xcd\\xcc\\xcc>\\xcd\\xcc\\xcc>'),\n",
              " (5, b'\\x00\\x00\\x00?\\x00\\x00\\x00?\\x00\\x00\\x00?\\x00\\x00\\x00?')]"
            ]
          },
          "metadata": {},
          "execution_count": 14
        }
      ]
    },
    {
      "cell_type": "code",
      "source": [
        "db.execute(\n",
        "    \"\"\"\n",
        "      SELECT embedding\n",
        "      FROM vec_items\n",
        "      WHERE rowid = 1\n",
        "    \"\"\").fetchall()"
      ],
      "metadata": {
        "colab": {
          "base_uri": "https://localhost:8080/"
        },
        "id": "hiuJQBGvoBwU",
        "outputId": "645d0e2c-4135-45bb-fe5c-95bc5ee1f019"
      },
      "execution_count": 15,
      "outputs": [
        {
          "output_type": "execute_result",
          "data": {
            "text/plain": [
              "[(b'\\xcd\\xcc\\xcc=\\xcd\\xcc\\xcc=\\xcd\\xcc\\xcc=\\xcd\\xcc\\xcc=',)]"
            ]
          },
          "metadata": {},
          "execution_count": 15
        }
      ]
    },
    {
      "cell_type": "code",
      "source": [
        "# Search for similar (cosine similarity) vectors\n",
        "query = [0.3, 0.3, 0.3, 0.3]\n",
        "\n",
        "rows = db.execute(\n",
        "    \"\"\"\n",
        "      SELECT\n",
        "        rowid,\n",
        "        distance\n",
        "      FROM vec_items\n",
        "      WHERE embedding MATCH ?\n",
        "      and k = ?\n",
        "    \"\"\",\n",
        "    [serialize_f32(query), 2]\n",
        ").fetchall()\n",
        "\n",
        "rows"
      ],
      "metadata": {
        "colab": {
          "base_uri": "https://localhost:8080/"
        },
        "id": "NI7vIM6dmKLR",
        "outputId": "3d1ad05e-2a4f-49e2-d070-161bd1cb5696"
      },
      "execution_count": 19,
      "outputs": [
        {
          "output_type": "execute_result",
          "data": {
            "text/plain": [
              "[(3, 0.0), (4, 0.19999998807907104)]"
            ]
          },
          "metadata": {},
          "execution_count": 19
        }
      ]
    }
  ]
}